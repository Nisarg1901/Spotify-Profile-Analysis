{
 "cells": [
  {
   "cell_type": "code",
   "execution_count": null,
   "metadata": {
    "id": "vwIk7X4OhrTD"
   },
   "outputs": [],
   "source": [
    "### Importing libraries\n",
    "import os\n",
    "import numpy as np\n",
    "import pandas as pd\n",
    "from datetime import datetime\n",
    "import matplotlib.pyplot as plt\n",
    "import seaborn as sns\n",
    "\n",
    "sns.set_style('darkgrid')"
   ]
  },
  {
   "cell_type": "code",
   "execution_count": null,
   "metadata": {
    "id": "we-jBcT7iHcN"
   },
   "outputs": [],
   "source": [
    "### Setting pandas options to display max 100 rows\n",
    "### Change according to your need\n",
    "pd.set_option('display.max_rows', 10)"
   ]
  },
  {
   "cell_type": "code",
   "execution_count": null,
   "metadata": {
    "id": "wEI9U88uhrTT"
   },
   "outputs": [],
   "source": [
    "### Reading spotify data file\n",
    "DATASET_DIR = os.path.join('datasets', 'MyData')\n",
    "file_name = 'StreamingHistory0.json'\n",
    "\n",
    "data = pd.read_json(os.path.join(DATASET_DIR, file_name))"
   ]
  },
  {
   "cell_type": "code",
   "execution_count": null,
   "metadata": {
    "colab": {
     "base_uri": "https://localhost:8080/",
     "height": 204
    },
    "executionInfo": {
     "elapsed": 1267,
     "status": "ok",
     "timestamp": 1621059135874,
     "user": {
      "displayName": "NP",
      "photoUrl": "https://lh3.googleusercontent.com/a-/AOh14Gh_rWT5RuO_EVLHc2xdPwgAUUQAUQuDWdONb8ng=s64",
      "userId": "01667617046684735456"
     },
     "user_tz": -330
    },
    "id": "VZuyCrHchrTU",
    "outputId": "300d28a9-01fb-4d05-b240-883da7496f90"
   },
   "outputs": [],
   "source": [
    "### Getting first 5 values\n",
    "data.head()"
   ]
  },
  {
   "cell_type": "code",
   "execution_count": null,
   "metadata": {
    "colab": {
     "base_uri": "https://localhost:8080/"
    },
    "executionInfo": {
     "elapsed": 1062,
     "status": "ok",
     "timestamp": 1621059135875,
     "user": {
      "displayName": "NP",
      "photoUrl": "https://lh3.googleusercontent.com/a-/AOh14Gh_rWT5RuO_EVLHc2xdPwgAUUQAUQuDWdONb8ng=s64",
      "userId": "01667617046684735456"
     },
     "user_tz": -330
    },
    "id": "XoJfyHydhrTX",
    "outputId": "b71c36b5-cc07-4438-caa5-c3385067911c"
   },
   "outputs": [],
   "source": [
    "data.info()"
   ]
  },
  {
   "cell_type": "markdown",
   "metadata": {
    "id": "J06sDt3BlyWD"
   },
   "source": [
    "# Analysis Part"
   ]
  },
  {
   "cell_type": "code",
   "execution_count": null,
   "metadata": {
    "colab": {
     "base_uri": "https://localhost:8080/"
    },
    "executionInfo": {
     "elapsed": 1344,
     "status": "ok",
     "timestamp": 1621059137017,
     "user": {
      "displayName": "NP",
      "photoUrl": "https://lh3.googleusercontent.com/a-/AOh14Gh_rWT5RuO_EVLHc2xdPwgAUUQAUQuDWdONb8ng=s64",
      "userId": "01667617046684735456"
     },
     "user_tz": -330
    },
    "id": "oamOqTp2hrTY",
    "outputId": "68f628c6-c7bd-4a35-c707-a57cca8c0547"
   },
   "outputs": [],
   "source": [
    "### Total Mili Seconds Listened\n",
    "total_msPlayed = data['msPlayed'].sum()\n",
    "total_minutesPlayed = total_msPlayed/60000   # Converting mili-seconds into minutes\n",
    "print(f'You listened {round(total_minutesPlayed,2)} minutes of total playback.')"
   ]
  },
  {
   "cell_type": "code",
   "execution_count": null,
   "metadata": {
    "id": "bU9Gn9RphrTZ"
   },
   "outputs": [],
   "source": [
    "### Finding Maximum Duration Song\n",
    "indexMaxDurationListened = data.msPlayed.argmax()\n",
    "\n",
    "print('You maximum duration listened track is ',data.trackName[indexMaxDurationListened] ,'by ', data.artistName[indexMaxDurationListened],'.')"
   ]
  },
  {
   "cell_type": "code",
   "execution_count": null,
   "metadata": {
    "id": "uIVxalqxx9yv"
   },
   "outputs": [],
   "source": [
    "### Counting number of times you played a song or listened to a artist\n",
    "song_counts=pd.DataFrame(data['trackName'].value_counts())\n",
    "artist_counts=pd.DataFrame(data['artistName'].value_counts())\n",
    "\n",
    "song_counts.reset_index(inplace=True)\n",
    "artist_counts.reset_index(inplace=True)\n",
    "\n",
    "song_counts.rename(columns = {'index':'trackName','trackName':'playedFrequency'}, inplace = True)\n",
    "artist_counts.rename(columns = {'index':'artistName','artistName':'playedFrequency'}, inplace = True)\n",
    "\n",
    "print('Your most frequently played Song is',  song_counts.iloc[0]['trackName'], '\\nYou heard it',song_counts.iloc[0]['playedFrequency'],'times')\n",
    "print('Your most frequently played Artist is',  artist_counts.iloc[0]['artistName'], '\\nYou heard it',artist_counts.iloc[0]['playedFrequency'],'times')"
   ]
  },
  {
   "cell_type": "code",
   "execution_count": null,
   "metadata": {
    "colab": {
     "base_uri": "https://localhost:8080/"
    },
    "executionInfo": {
     "elapsed": 1199,
     "status": "ok",
     "timestamp": 1621059139270,
     "user": {
      "displayName": "NP",
      "photoUrl": "https://lh3.googleusercontent.com/a-/AOh14Gh_rWT5RuO_EVLHc2xdPwgAUUQAUQuDWdONb8ng=s64",
      "userId": "01667617046684735456"
     },
     "user_tz": -330
    },
    "id": "1BKgac_77OjE",
    "outputId": "43e94b85-cc88-4744-91d9-efecd6b49cbb"
   },
   "outputs": [],
   "source": [
    "### Top 10 Songs\n",
    "print('Your top 10 Songs:')\n",
    "print(song_counts.iloc[:11, 0].reindex(range(1, 11)))"
   ]
  },
  {
   "cell_type": "code",
   "execution_count": null,
   "metadata": {
    "id": "i3542H1N_D3l"
   },
   "outputs": [],
   "source": [
    "### Top Songs By User\n",
    "n = int(input('How many top song of yours you want: '))\n",
    "print(f\"{song_counts.iloc[:n + 1, 0].reindex(range(1, n + 1))}\")"
   ]
  },
  {
   "cell_type": "code",
   "execution_count": null,
   "metadata": {
    "colab": {
     "base_uri": "https://localhost:8080/",
     "height": 204
    },
    "executionInfo": {
     "elapsed": 1283,
     "status": "ok",
     "timestamp": 1621059139878,
     "user": {
      "displayName": "NP",
      "photoUrl": "https://lh3.googleusercontent.com/a-/AOh14Gh_rWT5RuO_EVLHc2xdPwgAUUQAUQuDWdONb8ng=s64",
      "userId": "01667617046684735456"
     },
     "user_tz": -330
    },
    "id": "B1CBUPvlClWz",
    "outputId": "7120b3f7-2376-4fbb-8773-92bb6c8ef5bf"
   },
   "outputs": [],
   "source": [
    "### Top Artist By User\n",
    "n = int(input('How many top artist of yours you want: '))\n",
    "print(f\"{artist_counts.iloc[:n + 1, 0].reindex(range(1, n + 1))}\")"
   ]
  },
  {
   "cell_type": "code",
   "execution_count": null,
   "metadata": {
    "colab": {
     "base_uri": "https://localhost:8080/",
     "height": 359
    },
    "executionInfo": {
     "elapsed": 6761,
     "status": "ok",
     "timestamp": 1621059145978,
     "user": {
      "displayName": "NP",
      "photoUrl": "https://lh3.googleusercontent.com/a-/AOh14Gh_rWT5RuO_EVLHc2xdPwgAUUQAUQuDWdONb8ng=s64",
      "userId": "01667617046684735456"
     },
     "user_tz": -330
    },
    "id": "AXRdamd4B7ru",
    "outputId": "aa10fd69-d6f4-40e5-e9d8-1cba9d258b57"
   },
   "outputs": [],
   "source": [
    "### Top 10 Artists \n",
    "top_10_artists = artist_counts.iloc[:10, 0]\n",
    "print(top_10_artists)"
   ]
  },
  {
   "cell_type": "markdown",
   "metadata": {},
   "source": [
    "# Visualization"
   ]
  },
  {
   "cell_type": "code",
   "execution_count": null,
   "metadata": {},
   "outputs": [],
   "source": [
    "### Bar plot of top 10 songs\n",
    "\n",
    "## Generating truncated song names\n",
    "song_names = song_counts.trackName.iloc[:10].apply(lambda name : name[:16] + \"...\")\n",
    "\n",
    "## Generating plot\n",
    "plt.figure(figsize = (18, 8))\n",
    "ax = sns.barplot(x = 'trackName', y = 'playedFrequency', data = song_counts.iloc[:10, :])\n",
    "ax.set_xticklabels(song_names, rotation = 30, fontsize = 11)\n",
    "ax.set_xlabel('Song name', fontsize =  15)\n",
    "ax.set_ylabel('Times played', fontsize =  15)\n",
    "ax.set_title('Top 10 Songs', fontsize = 20);"
   ]
  },
  {
   "cell_type": "code",
   "execution_count": null,
   "metadata": {},
   "outputs": [],
   "source": [
    "### Pie Chart of top 10 artists\n",
    "\n",
    "plt.figure(figsize = (14, 10))\n",
    "plt.pie(\n",
    "    x = artist_counts.iloc[:10, 1],\n",
    "    labels = top_10_artists,\n",
    "    autopct = '%.2f%%',\n",
    "    startangle = 90,\n",
    "    counterclock = False,\n",
    "    textprops = {\n",
    "        \"fontsize\": 13,\n",
    "    }\n",
    ")\n",
    "plt.title('Top 10 Artists', fontsize = 18);"
   ]
  },
  {
   "cell_type": "code",
   "execution_count": null,
   "metadata": {},
   "outputs": [],
   "source": [
    "### Handling date field in dataset\n",
    "d_data = data.copy()\n",
    "\n",
    "d_data.endTime = d_data.endTime.apply(lambda d: datetime.strptime(d, '%Y-%m-%d %H:%M').date())\n",
    "d_data.sort_values(by = 'endTime', ascending = False).reset_index(drop = True)\n",
    "d_data.msPlayed = d_data.msPlayed.apply(lambda t: t/60000)\n",
    "datewise_listening = d_data.groupby(by = 'endTime').sum().reset_index()\n",
    "datewise_listening.sort_values(by = 'endTime')"
   ]
  },
  {
   "cell_type": "code",
   "execution_count": null,
   "metadata": {},
   "outputs": [],
   "source": [
    "### Plotting daywise listening activity\n",
    "plt.figure(figsize = (20, 8))\n",
    "ax = sns.lineplot(x = 'endTime', y = 'msPlayed', data = datewise_listening.iloc[::2, :])\n",
    "ax.set_xlabel('Date', fontsize =  15)\n",
    "ax.set_ylabel('Minutes', fontsize =  15)\n",
    "ax.set_title('Datewise Listening', fontsize = 20);"
   ]
  },
  {
   "cell_type": "code",
   "execution_count": null,
   "metadata": {},
   "outputs": [],
   "source": []
  }
 ],
 "metadata": {
  "colab": {
   "collapsed_sections": [],
   "name": "spotify_data_analysis.ipynb",
   "provenance": [
    {
     "file_id": "1y3Gs81gPAUNEPhXi_PffYpsGlpg9nJYd",
     "timestamp": 1621059181107
    }
   ]
  },
  "kernelspec": {
   "display_name": "Python 3",
   "language": "python",
   "name": "python3"
  },
  "language_info": {
   "codemirror_mode": {
    "name": "ipython",
    "version": 3
   },
   "file_extension": ".py",
   "mimetype": "text/x-python",
   "name": "python",
   "nbconvert_exporter": "python",
   "pygments_lexer": "ipython3",
   "version": "3.9.0"
  },
  "metadata": {
   "interpreter": {
    "hash": "f4113fc8712a6ab3430b12371552cd60a34035ae827f4ca702c567a5e7768e48"
   }
  }
 },
 "nbformat": 4,
 "nbformat_minor": 4
}
